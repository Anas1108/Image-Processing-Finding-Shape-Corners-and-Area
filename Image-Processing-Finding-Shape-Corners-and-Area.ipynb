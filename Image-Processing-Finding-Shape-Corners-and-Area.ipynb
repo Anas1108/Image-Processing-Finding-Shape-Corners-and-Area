{
 "cells": [
  {
   "cell_type": "code",
   "execution_count": 124,
   "id": "eddffe9d",
   "metadata": {},
   "outputs": [
    {
     "data": {
      "image/png": "[encoded data removed]",
      "text/plain": [
       "<Figure size 432x288 with 1 Axes>"
      ]
     },
     "metadata": {
      "needs_background": "light"
     },
     "output_type": "display_data"
    },
    {
     "name": "stderr",
     "output_type": "stream",
     "text": [
      "Clipping input data to the valid range for imshow with RGB data ([0..1] for floats or [0..255] for integers).\n"
     ]
    },
    {
     "data": {
      "image/png": "[encoded data removed]",
      "text/plain": [
       "<Figure size 432x288 with 1 Axes>"
      ]
     },
     "metadata": {
      "needs_background": "light"
     },
     "output_type": "display_data"
    },
    {
     "name": "stderr",
     "output_type": "stream",
     "text": [
      "Clipping input data to the valid range for imshow with RGB data ([0..1] for floats or [0..255] for integers).\n"
     ]
    },
    {
     "data": {
      "image/png": "[encoded data removed]",
      "text/plain": [
       "<Figure size 432x288 with 1 Axes>"
      ]
     },
     "metadata": {
      "needs_background": "light"
     },
     "output_type": "display_data"
    }
   ],
   "source": [
    "# Read the original image\n",
    "img3 = cv2.imread('Q-3.jpg', cv2.COLOR_RGB2GRAY)\n",
    "showImage(img3,\"Original Image\")\n",
    "# Blur the image for better edge detection\n",
    "img_blur = cv2.GaussianBlur(img3, (3,3), 0) \n",
    "# Sobel Edge Detection\n",
    "sobelxy = cv2.Sobel(src=img_blur, ddepth=cv2.CV_64F, dx=1, dy=1, ksize=5) # Combined X and Y Sobel Edge Detection\n",
    "# Display Sobel Edge Detection Image\n",
    "showImage(sobelxy,\"Sobel X\")\n",
    "# binary thresholding\n",
    "_, binary = cv2.threshold(sobelxy,10,220, cv2.THRESH_BINARY_INV)\n",
    "showImage(binary,\"Diagnal Edges\")"
   ]
  },
  {
   "cell_type": "code",
   "execution_count": 125,
   "id": "3274706d",
   "metadata": {},
   "outputs": [
    {
     "name": "stdout",
     "output_type": "stream",
     "text": [
      "Found pixel at  50 33\n",
      "Found pixel at  50 34\n",
      "Found pixel at  51 32\n",
      "Found pixel at  51 33\n",
      "Found pixel at  51 34\n",
      "Found pixel at  52 32\n",
      "Found pixel at  52 33\n",
      "Found pixel at  52 34\n",
      "Found pixel at  88 104\n",
      "Found pixel at  88 105\n",
      "Found pixel at  89 103\n",
      "Found pixel at  89 104\n",
      "Found pixel at  89 105\n",
      "Found pixel at  90 103\n",
      "Found pixel at  90 104\n",
      "Found pixel at  90 105\n"
     ]
    }
   ],
   "source": [
    "# find the cordinates of  diagnol pixels\n",
    "img= cv2.resize(binary,(150,150)) \n",
    "x,y,z= img.shape\n",
    "for i in range(x):  \n",
    "    for j in range(y):  \n",
    "        if img[i,j,0]==0: \n",
    "            print(\"Found pixel at \",i,j)"
   ]
  },
  {
   "cell_type": "code",
   "execution_count": 126,
   "id": "1668e3f5",
   "metadata": {},
   "outputs": [
    {
     "data": {
      "image/png": "[encoded data removed]",
      "text/plain": [
       "<Figure size 432x288 with 1 Axes>"
      ]
     },
     "metadata": {
      "needs_background": "light"
     },
     "output_type": "display_data"
    }
   ],
   "source": [
    "#  have found top left corner cordinates as (50,33) and bottom right as (90,105) ,\n",
    "# so to find area I simply doo y2-y1 and x2-x1 and I got height and width of rectangle and \n",
    "# then simply I multiply them ang got area which is approximately 2880 pixels ,\n",
    "# which is the area of rectangle.\n",
    "height=105-33\n",
    "width=90-50\n",
    "area=height*width\n",
    "myImg=cv2.putText(img3,str(area),(110,140),cv2.FONT_HERSHEY_SIMPLEX,0.5,(50,10,0),1)\n",
    "showImage(myImg,\"Resultant Image\")"
   ]
  }
 ],
 "metadata": {
  "kernelspec": {
   "display_name": "Python 3",
   "language": "python",
   "name": "python3"
  },
  "language_info": {
   "codemirror_mode": {
    "name": "ipython",
    "version": 3
   },
   "file_extension": ".py",
   "mimetype": "text/x-python",
   "name": "python",
   "nbconvert_exporter": "python",
   "pygments_lexer": "ipython3",
   "version": "3.8.8"
  }
 },
 "nbformat": 4,
 "nbformat_minor": 5
}
